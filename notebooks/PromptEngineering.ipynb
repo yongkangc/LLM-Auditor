{
 "cells": [
  {
   "cell_type": "markdown",
   "id": "1522a241",
   "metadata": {},
   "source": [
    "# Data Processing of Test Data"
   ]
  },
  {
   "cell_type": "code",
   "execution_count": 24,
   "id": "734ef521-7db6-4985-bde3-6d1b21f06cd4",
   "metadata": {},
   "outputs": [
    {
     "name": "stdout",
     "output_type": "stream",
     "text": [
      "Number of groundTruth addresses:  67\n",
      "Missing Addresses are: \n",
      " hex:[], \n",
      " sol: []\n",
      "The number of missing addresses: hex:  0 ; sol:  0\n"
     ]
    }
   ],
   "source": [
    "# import\n",
    "import pandas as pd\n",
    "import os\n",
    "import json\n",
    "import random\n",
    "\n",
    "# importing in contracts from CRPWarner\n",
    "\n",
    "path_groundTruth_excel = '../test-contracts/RugPull/dataset/groundTruth/groundTruth.xlsx'\n",
    "df_groundTruth = pd.read_excel(path_groundTruth_excel, engine='openpyxl')\n",
    "\n",
    "list_groundTruth_address = df_groundTruth['address'].tolist()\n",
    "print('Number of groundTruth addresses: ', len(list_groundTruth_address))\n",
    "\n",
    "# Specify folder paths\n",
    "path_hex_folder = '../test-contracts/RugPull/dataset/groundTruth/hex'\n",
    "path_sol_folder = '../test-contracts/RugPull/dataset/groundTruth/sol'\n",
    "\n",
    "# Get all filenames in the folders without extensions\n",
    "list_filenames_hex = [os.path.splitext(f)[0] for f in os.listdir(path_hex_folder) if os.path.isfile(os.path.join(path_hex_folder, f))]\n",
    "list_filenames_sol = [os.path.splitext(f)[0] for f in os.listdir(path_sol_folder) if os.path.isfile(os.path.join(path_sol_folder, f))]\n",
    "\n",
    "\n",
    "# Find missing hex and sol files\n",
    "def get_missing_addresses(ground_truth_addresses, existing_hex_files, existing_sol_files):\n",
    "    missing_hex_files = []\n",
    "    missing_sol_files = []\n",
    "    for address in ground_truth_addresses:\n",
    "        if address not in existing_hex_files:\n",
    "            missing_hex_files.append(address)\n",
    "        if address not in existing_sol_files:\n",
    "            missing_sol_files.append(address)\n",
    "    return missing_hex_files, missing_sol_files\n",
    "\n",
    "\n",
    "list_hex_lack, list_sol_lack = get_missing_addresses(\n",
    "    list_groundTruth_address, list_filenames_hex, list_filenames_sol)\n",
    "print(\n",
    "    f\"Missing Addresses are: \\n hex:{list_hex_lack}, \\n sol: {list_sol_lack}\")\n",
    "print('The number of missing addresses: hex: ', len(\n",
    "    list_hex_lack), '; sol: ', len(list_sol_lack))"
   ]
  },
  {
   "cell_type": "markdown",
   "id": "92029949",
   "metadata": {},
   "source": [
    "# GPT 4-O"
   ]
  },
  {
   "cell_type": "code",
   "execution_count": 5,
   "id": "50e295be-ec2d-4fd1-91dd-d5ebdc4890d1",
   "metadata": {},
   "outputs": [],
   "source": [
    "# Define the smart contract code to be audited (example contract code snippet)\n",
    "smart_contract_code = \"\"\"\n",
    "// SPDX-License-Identifier: MIT\n",
    "pragma solidity ^0.8.0;\n",
    "\n",
    "contract ExampleToken {\n",
    "    string public name = \"ExampleToken\";\n",
    "    string public symbol = \"EXT\";\n",
    "    uint8 public decimals = 18;\n",
    "    uint256 public totalSupply;\n",
    "    address public owner;\n",
    "\n",
    "    mapping(address => uint256) public balanceOf;\n",
    "    mapping(address => mapping(address => uint256)) public allowance;\n",
    "\n",
    "    event Transfer(address indexed from, address indexed to, uint256 value);\n",
    "    event Approval(address indexed owner, address indexed spender, uint256 value);\n",
    "\n",
    "    constructor(uint256 _initialSupply) {\n",
    "        owner = msg.sender;\n",
    "        totalSupply = _initialSupply * (10 ** uint256(decimals));\n",
    "        balanceOf[owner] = totalSupply;\n",
    "        emit Transfer(address(0), owner, totalSupply);\n",
    "    }\n",
    "\n",
    "    function transfer(address _to, uint256 _value) public returns (bool success) {\n",
    "        require(balanceOf[msg.sender] >= _value, \"Insufficient balance\");\n",
    "        balanceOf[msg.sender] -= _value;\n",
    "        balanceOf[_to] += _value;\n",
    "        emit Transfer(msg.sender, _to, _value);\n",
    "        return true;\n",
    "    }\n",
    "\n",
    "    function approve(address _spender, uint256 _value) public returns (bool success) {\n",
    "        allowance[msg.sender][_spender] = _value;\n",
    "        emit Approval(msg.sender, _spender, _value);\n",
    "        return true;\n",
    "    }\n",
    "\n",
    "    function transferFrom(address _from, address _to, uint256 _value) public returns (bool success) {\n",
    "        require(_value <= balanceOf[_from], \"Insufficient balance\");\n",
    "        require(_value <= allowance[_from][msg.sender], \"Allowance exceeded\");\n",
    "        balanceOf[_from] -= _value;\n",
    "        balanceOf[_to] += _value;\n",
    "        allowance[_from][msg.sender] -= _value;\n",
    "        emit Transfer(_from, _to, _value);\n",
    "        return true;\n",
    "    }\n",
    "}\n",
    "\"\"\""
   ]
  },
  {
   "cell_type": "code",
   "execution_count": 7,
   "id": "62cbbbd8-f779-4660-95d6-6af283613a24",
   "metadata": {},
   "outputs": [
    {
     "ename": "AttributeError",
     "evalue": "'Chat' object has no attribute 'ChatCompletion'",
     "output_type": "error",
     "traceback": [
      "\u001b[0;31m---------------------------------------------------------------------------\u001b[0m",
      "\u001b[0;31mAttributeError\u001b[0m                            Traceback (most recent call last)",
      "Cell \u001b[0;32mIn[7], line 30\u001b[0m\n\u001b[1;32m     12\u001b[0m prompt \u001b[38;5;241m=\u001b[39m \u001b[38;5;124mf\u001b[39m\u001b[38;5;124m\"\"\"\u001b[39m\n\u001b[1;32m     13\u001b[0m \u001b[38;5;124mYou are an AI model specialized in auditing smart contracts for potential vulnerabilities, particularly rug pull scenarios. Your task is to analyze the provided smart contract and identify any code patterns or logic flaws that could allow the contract creators to execute a rug pull.\u001b[39m\n\u001b[1;32m     14\u001b[0m \n\u001b[0;32m   (...)\u001b[0m\n\u001b[1;32m     26\u001b[0m \u001b[38;5;132;01m{\u001b[39;00msmart_contract_code\u001b[38;5;132;01m}\u001b[39;00m\n\u001b[1;32m     27\u001b[0m \u001b[38;5;124m\"\"\"\u001b[39m\n\u001b[1;32m     29\u001b[0m \u001b[38;5;66;03m# Make the API call\u001b[39;00m\n\u001b[0;32m---> 30\u001b[0m response \u001b[38;5;241m=\u001b[39m \u001b[43mclient\u001b[49m\u001b[38;5;241;43m.\u001b[39;49m\u001b[43mchat\u001b[49m\u001b[38;5;241;43m.\u001b[39;49m\u001b[43mChatCompletion\u001b[49m\u001b[38;5;241m.\u001b[39mcreate(\n\u001b[1;32m     31\u001b[0m     model\u001b[38;5;241m=\u001b[39m\u001b[38;5;124m\"\u001b[39m\u001b[38;5;124mgpt-4\u001b[39m\u001b[38;5;124m\"\u001b[39m,\n\u001b[1;32m     32\u001b[0m     messages\u001b[38;5;241m=\u001b[39m[\n\u001b[1;32m     33\u001b[0m         {\u001b[38;5;124m\"\u001b[39m\u001b[38;5;124mrole\u001b[39m\u001b[38;5;124m\"\u001b[39m: \u001b[38;5;124m\"\u001b[39m\u001b[38;5;124msystem\u001b[39m\u001b[38;5;124m\"\u001b[39m, \u001b[38;5;124m\"\u001b[39m\u001b[38;5;124mcontent\u001b[39m\u001b[38;5;124m\"\u001b[39m: \u001b[38;5;124m\"\u001b[39m\u001b[38;5;124mYou are a smart contract auditor, skilled in identifying vulnerabilities in smart contract code, \u001b[39m\u001b[38;5;124m\"\u001b[39m},\n\u001b[1;32m     34\u001b[0m         {\u001b[38;5;124m\"\u001b[39m\u001b[38;5;124mrole\u001b[39m\u001b[38;5;124m\"\u001b[39m: \u001b[38;5;124m\"\u001b[39m\u001b[38;5;124muser\u001b[39m\u001b[38;5;124m\"\u001b[39m, \u001b[38;5;124m\"\u001b[39m\u001b[38;5;124mcontent\u001b[39m\u001b[38;5;124m\"\u001b[39m: prompt}\n\u001b[1;32m     35\u001b[0m     ],\n\u001b[1;32m     36\u001b[0m     temperature\u001b[38;5;241m=\u001b[39m\u001b[38;5;241m0.7\u001b[39m,\n\u001b[1;32m     37\u001b[0m     max_tokens\u001b[38;5;241m=\u001b[39m\u001b[38;5;241m1500\u001b[39m\n\u001b[1;32m     38\u001b[0m )\n\u001b[1;32m     40\u001b[0m \u001b[38;5;66;03m# Print the response (audit report)\u001b[39;00m\n\u001b[1;32m     41\u001b[0m response_text \u001b[38;5;241m=\u001b[39m response\u001b[38;5;241m.\u001b[39mchoices[\u001b[38;5;241m0\u001b[39m]\u001b[38;5;241m.\u001b[39mmessage[\u001b[38;5;124m'\u001b[39m\u001b[38;5;124mcontent\u001b[39m\u001b[38;5;124m'\u001b[39m]\n",
      "\u001b[0;31mAttributeError\u001b[0m: 'Chat' object has no attribute 'ChatCompletion'"
     ]
    }
   ],
   "source": [
    "# Import necessary libraries\n",
    "from openai import ChatCompletion, OpenAI\n",
    "import json\n",
    "import openai\n",
    "\n",
    "\n",
    "\n",
    "## Set the API key\n",
    "client = OpenAI(api_key=\"your_api_key_here\")\n",
    "\n",
    "# Define the prompt\n",
    "prompt = f\"\"\"\n",
    "You are an AI model specialized in auditing smart contracts for potential vulnerabilities, particularly rug pull scenarios. Your task is to analyze the provided smart contract and identify any code patterns or logic flaws that could allow the contract creators to execute a rug pull.\n",
    "\n",
    "A rug pull is a type of exit scam where the developers of a cryptocurrency project suddenly withdraw all funds from the liquidity pool, leaving investors with worthless tokens. Common indicators of rug pull vulnerabilities include, but are not limited to:\n",
    "\n",
    "- Centralized control over contract functions.\n",
    "- The ability to mint or burn tokens without restrictions.\n",
    "- Unverified external contracts or dependencies.\n",
    "- Lack of time locks on critical functions.\n",
    "- Absence of multi-signature requirements for sensitive operations.\n",
    "\n",
    "Given the following smart contract's code, highlight the specific lines or sections that might be exploited for a rug pull. Provide detailed explanations for each identified vulnerability and suggest possible mitigations or improvements to enhance the contract's security.\n",
    "\n",
    "Smart Contract Code:\n",
    "{smart_contract_code}\n",
    "\"\"\"\n",
    "\n",
    "# Make the API call\n",
    "response = client.chat.ChatCompletion.create(\n",
    "    model=\"gpt-4\",\n",
    "    messages=[\n",
    "        {\"role\": \"system\", \"content\": \"You are a smart contract auditor, skilled in identifying vulnerabilities in smart contract code, \"},\n",
    "        {\"role\": \"user\", \"content\": prompt}\n",
    "    ],\n",
    "    temperature=0.7,\n",
    "    max_tokens=1500\n",
    ")\n",
    "\n",
    "# Print the response (audit report)\n",
    "response_text = response.choices[0].message['content']\n",
    "print(response_text)\n",
    "\n",
    "# Optionally, save the response to a file\n",
    "with open(\"audit_report.txt\", \"w\") as file:\n",
    "    file.write(response_text)"
   ]
  },
  {
   "cell_type": "code",
   "execution_count": null,
   "id": "68dc4149-8229-42c6-a104-81afe860cba6",
   "metadata": {},
   "outputs": [],
   "source": []
  },
  {
   "cell_type": "code",
   "execution_count": null,
   "id": "e49d899e-cd5d-46de-bc7c-ce5c6fa72c97",
   "metadata": {},
   "outputs": [],
   "source": []
  }
 ],
 "metadata": {
  "kernelspec": {
   "display_name": "Python 3 (ipykernel)",
   "language": "python",
   "name": "python3"
  },
  "language_info": {
   "codemirror_mode": {
    "name": "ipython",
    "version": 3
   },
   "file_extension": ".py",
   "mimetype": "text/x-python",
   "name": "python",
   "nbconvert_exporter": "python",
   "pygments_lexer": "ipython3",
   "version": "3.12.4"
  }
 },
 "nbformat": 4,
 "nbformat_minor": 5
}
