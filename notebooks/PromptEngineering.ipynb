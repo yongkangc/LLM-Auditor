{
 "cells": [
  {
   "cell_type": "markdown",
   "id": "1522a241",
   "metadata": {},
   "source": [
    "# Data Processing of Test Data"
   ]
  },
  {
   "cell_type": "code",
   "execution_count": 1,
   "id": "734ef521-7db6-4985-bde3-6d1b21f06cd4",
   "metadata": {},
   "outputs": [
    {
     "name": "stdout",
     "output_type": "stream",
     "text": [
      "Number of groundTruth addresses:  67\n",
      "Missing Addresses are: \n",
      " hex:[], \n",
      " sol: []\n",
      "The number of missing addresses: hex:  0 ; sol:  0\n"
     ]
    }
   ],
   "source": [
    "# import\n",
    "import pandas as pd\n",
    "import os\n",
    "import json\n",
    "import random\n",
    "\n",
    "# importing in contracts from CRPWarner\n",
    "\n",
    "path_groundTruth_excel = '../test-contracts/RugPull/dataset/groundTruth/groundTruth.xlsx'\n",
    "df_groundTruth = pd.read_excel(path_groundTruth_excel, engine='openpyxl')\n",
    "\n",
    "list_groundTruth_address = df_groundTruth['address'].tolist()\n",
    "print('Number of groundTruth addresses: ', len(list_groundTruth_address))\n",
    "\n",
    "# Specify folder paths\n",
    "path_hex_folder = '../test-contracts/RugPull/dataset/groundTruth/hex'\n",
    "path_sol_folder = '../test-contracts/RugPull/dataset/groundTruth/sol'\n",
    "\n",
    "# Get all filenames in the folders without extensions\n",
    "list_filenames_hex = [os.path.splitext(f)[0] for f in os.listdir(path_hex_folder) if os.path.isfile(os.path.join(path_hex_folder, f))]\n",
    "list_filenames_sol = [os.path.splitext(f)[0] for f in os.listdir(path_sol_folder) if os.path.isfile(os.path.join(path_sol_folder, f))]\n",
    "\n",
    "\n",
    "# Find missing hex and sol files\n",
    "def get_missing_addresses(ground_truth_addresses, existing_hex_files, existing_sol_files):\n",
    "    missing_hex_files = []\n",
    "    missing_sol_files = []\n",
    "    for address in ground_truth_addresses:\n",
    "        if address not in existing_hex_files:\n",
    "            missing_hex_files.append(address)\n",
    "        if address not in existing_sol_files:\n",
    "            missing_sol_files.append(address)\n",
    "    return missing_hex_files, missing_sol_files\n",
    "\n",
    "\n",
    "list_hex_lack, list_sol_lack = get_missing_addresses(\n",
    "    list_groundTruth_address, list_filenames_hex, list_filenames_sol)\n",
    "print(\n",
    "    f\"Missing Addresses are: \\n hex:{list_hex_lack}, \\n sol: {list_sol_lack}\")\n",
    "print('The number of missing addresses: hex: ', len(\n",
    "    list_hex_lack), '; sol: ', len(list_sol_lack))"
   ]
  },
  {
   "cell_type": "markdown",
   "id": "2fa1ff63",
   "metadata": {},
   "source": [
    "# Sample Contract for testing"
   ]
  },
  {
   "cell_type": "code",
   "execution_count": 7,
   "id": "50e295be-ec2d-4fd1-91dd-d5ebdc4890d1",
   "metadata": {},
   "outputs": [],
   "source": [
    "# Define the smart contract code to be audited (example contract code snippet)\n",
    "smart_contract_code = \"\"\"\n",
    "// SPDX-License-Identifier: MIT\n",
    "pragma solidity ^0.8.0;\n",
    "\n",
    "contract ExampleToken {\n",
    "    string public name = \"ExampleToken\";\n",
    "    string public symbol = \"EXT\";\n",
    "    uint8 public decimals = 18;\n",
    "    uint256 public totalSupply;\n",
    "    address public owner;\n",
    "\n",
    "    mapping(address => uint256) public balanceOf;\n",
    "    mapping(address => mapping(address => uint256)) public allowance;\n",
    "\n",
    "    event Transfer(address indexed from, address indexed to, uint256 value);\n",
    "    event Approval(address indexed owner, address indexed spender, uint256 value);\n",
    "\n",
    "    constructor(uint256 _initialSupply) {\n",
    "        owner = msg.sender;\n",
    "        totalSupply = _initialSupply * (10 ** uint256(decimals));\n",
    "        balanceOf[owner] = totalSupply;\n",
    "        emit Transfer(address(0), owner, totalSupply);\n",
    "    }\n",
    "\n",
    "    function transfer(address _to, uint256 _value) public returns (bool success) {\n",
    "        require(balanceOf[msg.sender] >= _value, \"Insufficient balance\");\n",
    "        balanceOf[msg.sender] -= _value;\n",
    "        balanceOf[_to] += _value;\n",
    "        emit Transfer(msg.sender, _to, _value);\n",
    "        return true;\n",
    "    }\n",
    "\n",
    "    function approve(address _spender, uint256 _value) public returns (bool success) {\n",
    "        allowance[msg.sender][_spender] = _value;\n",
    "        emit Approval(msg.sender, _spender, _value);\n",
    "        return true;\n",
    "    }\n",
    "\n",
    "    function transferFrom(address _from, address _to, uint256 _value) public returns (bool success) {\n",
    "        require(_value <= balanceOf[_from], \"Insufficient balance\");\n",
    "        require(_value <= allowance[_from][msg.sender], \"Allowance exceeded\");\n",
    "        balanceOf[_from] -= _value;\n",
    "        balanceOf[_to] += _value;\n",
    "        allowance[_from][msg.sender] -= _value;\n",
    "        emit Transfer(_from, _to, _value);\n",
    "        return true;\n",
    "    }\n",
    "}\n",
    "\"\"\""
   ]
  },
  {
   "cell_type": "markdown",
   "id": "92029949",
   "metadata": {},
   "source": [
    "# GPT 4-O"
   ]
  },
  {
   "cell_type": "markdown",
   "id": "8625137b",
   "metadata": {},
   "source": [
    "## Running a simple 3 experiment using OPENAI"
   ]
  },
  {
   "cell_type": "code",
   "execution_count": 5,
   "id": "62cbbbd8-f779-4660-95d6-6af283613a24",
   "metadata": {},
   "outputs": [],
   "source": [
    "# Import necessary libraries\n",
    "from openai import ChatCompletion, OpenAI\n",
    "import json\n",
    "import openai\n",
    "import os\n",
    "from dotenv import load_dotenv\n",
    "\n",
    "\n",
    "def open_ai_audit_smart_contract(smart_contract_code):\n",
    "    # Load environment variables\n",
    "    load_dotenv()\n",
    "    api_key = os.environ.get('OPENAI_API_KEY')\n",
    "\n",
    "    if not api_key:\n",
    "        raise ValueError(\"OPENAI_API_KEY not found in environment variables\")\n",
    "\n",
    "    # Initialize the OpenAI client\n",
    "    client = OpenAI(api_key=api_key)\n",
    "\n",
    "    # Define the prompt\n",
    "    prompt = f\"\"\"\n",
    "    You are an AI model specialized in auditing smart contracts for potential vulnerabilities, particularly rug pull scenarios. Your task is to analyze the provided smart contract and identify any code patterns or logic flaws that could allow the contract creators to execute a rug pull.\n",
    "\n",
    "    A rug pull is a type of exit scam where the developers of a cryptocurrency project suddenly withdraw all funds from the liquidity pool, leaving investors with worthless tokens. Common indicators of rug pull vulnerabilities include, but are not limited to:\n",
    "\n",
    "    - Centralized control over contract functions.\n",
    "    - The ability to mint or burn tokens without restrictions.\n",
    "    - Unverified external contracts or dependencies.\n",
    "    - Lack of time locks on critical functions.\n",
    "    - Absence of multi-signature requirements for sensitive operations.\n",
    "\n",
    "    Given the following smart contract's code, highlight the specific lines or sections that might be exploited for a rug pull. Provide detailed explanations for each identified vulnerability and suggest possible mitigations or improvements to enhance the contract's security.\n",
    "\n",
    "    Smart Contract Code:\n",
    "    {smart_contract_code}\n",
    "    \"\"\"\n",
    "\n",
    "    try:\n",
    "        # Make the API call\n",
    "        response = client.chat.completions.create(\n",
    "            model=\"gpt-4\",  # Note: Changed from \"gpt-4o\" to \"gpt-4\"\n",
    "            messages=[\n",
    "                {\"role\": \"system\", \"content\": \"You are a smart contract auditor, skilled in identifying vulnerabilities in smart contract code.\"},\n",
    "                {\"role\": \"user\", \"content\": prompt}\n",
    "            ],\n",
    "            temperature=0.7,\n",
    "            max_tokens=20000\n",
    "        )\n",
    "\n",
    "        # Extract and return the response text\n",
    "        return response.choices[0].message.content\n",
    "\n",
    "    except Exception as e:\n",
    "        return f\"An error occurred during the audit: {str(e)}\""
   ]
  },
  {
   "cell_type": "code",
   "execution_count": 6,
   "id": "e49d899e-cd5d-46de-bc7c-ce5c6fa72c97",
   "metadata": {},
   "outputs": [
    {
     "ename": "NameError",
     "evalue": "name 'audit_smart_contract' is not defined",
     "output_type": "error",
     "traceback": [
      "\u001b[0;31m---------------------------------------------------------------------------\u001b[0m",
      "\u001b[0;31mNameError\u001b[0m                                 Traceback (most recent call last)",
      "Cell \u001b[0;32mIn[6], line 4\u001b[0m\n\u001b[1;32m      1\u001b[0m output_file \u001b[38;5;241m=\u001b[39m \u001b[38;5;124m\"\u001b[39m\u001b[38;5;124maudit_reports/audit_result.txt\u001b[39m\u001b[38;5;124m\"\u001b[39m\n\u001b[1;32m      3\u001b[0m \u001b[38;5;66;03m# Call the function with the example contract\u001b[39;00m\n\u001b[0;32m----> 4\u001b[0m audit_result \u001b[38;5;241m=\u001b[39m \u001b[43maudit_smart_contract\u001b[49m(example_contract)\n\u001b[1;32m      5\u001b[0m \u001b[38;5;66;03m# Optionally, save the response to a file\u001b[39;00m\n\u001b[1;32m      6\u001b[0m \u001b[38;5;28;01mwith\u001b[39;00m \u001b[38;5;28mopen\u001b[39m(output_file, \u001b[38;5;124m\"\u001b[39m\u001b[38;5;124mw\u001b[39m\u001b[38;5;124m\"\u001b[39m) \u001b[38;5;28;01mas\u001b[39;00m file:\n",
      "\u001b[0;31mNameError\u001b[0m: name 'audit_smart_contract' is not defined"
     ]
    }
   ],
   "source": [
    "output_file = \"audit_reports/audit_result.txt\"\n",
    "\n",
    "# Call the function with the example contract\n",
    "audit_result = open_ai_audit_smart_contract(example_contract)\n",
    "# Optionally, save the response to a file\n",
    "with open(output_file, \"w\") as file:\n",
    "    file.write(response_text)"
   ]
  },
  {
   "cell_type": "markdown",
   "id": "79d72d90",
   "metadata": {},
   "source": [
    "# Claude 3.5 Sonnet"
   ]
  },
  {
   "cell_type": "code",
   "execution_count": 11,
   "id": "cac1aef5",
   "metadata": {},
   "outputs": [],
   "source": [
    "# Import necessary libraries\n",
    "import os\n",
    "import anthropic\n",
    "\n",
    "output_file = \"audit_reports/claude_audit_result.txt\"\n",
    "def claude_audit_smart_contract(smart_contract_code):\n",
    "    load_dotenv()\n",
    "\n",
    "    # Set the API key using an environment variable\n",
    "    api_key = os.environ.get('ANTHROPIC_API_KEY')\n",
    "    if not api_key:\n",
    "        raise ValueError(\"ANTHROPIC_API_KEY environment variable is not set\")\n",
    "\n",
    "    # Initialize the Anthropic client\n",
    "    client = anthropic.Anthropic(api_key=api_key)\n",
    "\n",
    "    # Define the prompt\n",
    "    prompt = f\"\"\"\n",
    "    You are an AI model specialized in auditing smart contracts for potential vulnerabilities, particularly rug pull scenarios. Your task is to analyze the provided smart contract and identify any code patterns or logic flaws that could allow the contract creators to execute a rug pull.\n",
    "\n",
    "    A rug pull is a type of exit scam where the developers of a cryptocurrency project suddenly withdraw all funds from the liquidity pool, leaving investors with worthless tokens. Common indicators of rug pull vulnerabilities include, but are not limited to:\n",
    "\n",
    "    - Centralized control over contract functions.\n",
    "    - The ability to mint or burn tokens without restrictions.\n",
    "    - Unverified external contracts or dependencies.\n",
    "    - Lack of time locks on critical functions.\n",
    "    - Absence of multi-signature requirements for sensitive operations.\n",
    "\n",
    "    Given the following smart contract's code, highlight the specific lines or sections that might be exploited for a rug pull. Provide detailed explanations for each identified vulnerability and suggest possible mitigations or improvements to enhance the contract's security.\n",
    "\n",
    "    Smart Contract Code:\n",
    "    {smart_contract_code}\n",
    "    \"\"\"\n",
    "\n",
    "    # Make the API call\n",
    "    response = client.messages.create(\n",
    "        model=\"claude-3-5-sonnet-20240620\",\n",
    "        max_tokens=4096,\n",
    "        temperature=0.7,\n",
    "        system=\"You are a smart contract auditor, skilled in identifying vulnerabilities in smart contract code.\",\n",
    "        messages=[\n",
    "            {\"role\": \"user\", \"content\": prompt}\n",
    "        ]\n",
    "    )\n",
    "\n",
    "    # Get the response text\n",
    "    audit_result = response.content[0].text\n",
    "\n",
    "    # Write the response to the output file\n",
    "    with open(output_file, 'w') as f:\n",
    "        f.write(audit_result)\n",
    "\n",
    "    print(f\"Audit result has been written to {output_file}\")"
   ]
  },
  {
   "cell_type": "code",
   "execution_count": 12,
   "id": "e615607e",
   "metadata": {},
   "outputs": [
    {
     "name": "stdout",
     "output_type": "stream",
     "text": [
      "Audit result has been written to audit_reports/audit_result.txt\n"
     ]
    }
   ],
   "source": [
    "contract = claude_audit_smart_contract(smart_contract_code)"
   ]
  },
  {
   "cell_type": "code",
   "execution_count": null,
   "id": "703ee5ba",
   "metadata": {},
   "outputs": [],
   "source": []
  }
 ],
 "metadata": {
  "kernelspec": {
   "display_name": "Python 3 (ipykernel)",
   "language": "python",
   "name": "python3"
  },
  "language_info": {
   "codemirror_mode": {
    "name": "ipython",
    "version": 3
   },
   "file_extension": ".py",
   "mimetype": "text/x-python",
   "name": "python",
   "nbconvert_exporter": "python",
   "pygments_lexer": "ipython3",
   "version": "3.9.6"
  }
 },
 "nbformat": 4,
 "nbformat_minor": 5
}
